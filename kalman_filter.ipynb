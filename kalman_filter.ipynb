{
 "cells": [
  {
   "cell_type": "markdown",
   "metadata": {},
   "source": [
    "# Kalman filter\n",
    "\n",
    "ロボットの角度を推定する  \n",
    " \n",
    "$ \\theta_t $:現在のロボットの姿勢(角度)  \n",
    "$ \\dot{\\theta_t} $:ロボットの角速度  \n",
    "$ \\epsilon_t $:角速度の誤差  \n",
    "$ Z_t $:ロボットが観測した姿勢  \n",
    "$ \\delta_t $:観測の誤差\n",
    "### Odometry\n",
    "$$\n",
    "\\begin{eqnarray*}\n",
    "\\theta_t&=&f(\\theta_{t-1},\\dot{\\theta}_t)+\\epsilon_t\\nonumber\\\\\n",
    "&=&\\theta_{t-1}+\\theta_t\\Delta t+\\epsilon_t\\nonumber\n",
    "\\end{eqnarray*}\n",
    "$$\n",
    "### Observation\n",
    "$$\n",
    "Z_t=h(\\theta_t)+\\delta_t\n",
    "$$\n",
    "### 予測ステップ\n",
    "$$\n",
    "\\begin{eqnarray*}\n",
    "\\bar{\\theta}_t&=&\\theta_{t-1}+\\dot{\\theta}_t\\Delta t\\nonumber\\\\\n",
    "\\bar{\\sigma}_t^2&=&\\sigma_{t-1}^2+\\sigma_{\\dot{\\theta}_t}^2\\nonumber\n",
    "\\end{eqnarray*}\n",
    "$$\n",
    "### フィルタリングステップ\n",
    "$$\n",
    "\\begin{eqnarray*}\n",
    "k_t&=&\\frac{\\bar{\\sigma}_t^2}{\\bar{\\sigma}_t^2+\\sigma_{z_t}^2}\\nonumber\\\\\n",
    "\\theta_t&=&\\bar{\\theta_t}+k_t(Z_t-\\bar{\\theta}_t)\\nonumber\\\\\n",
    "\\sigma_t^2&=&(1-k_t)\\bar{\\sigma}_t^2\\nonumber\n",
    "\\end{eqnarray*}\n",
    "$$"
   ]
  },
  {
   "cell_type": "code",
   "execution_count": null,
   "metadata": {
    "collapsed": true
   },
   "outputs": [],
   "source": []
  }
 ],
 "metadata": {
  "kernelspec": {
   "display_name": "Python 3",
   "language": "python",
   "name": "python3"
  },
  "language_info": {
   "codemirror_mode": {
    "name": "ipython",
    "version": 3
   },
   "file_extension": ".py",
   "mimetype": "text/x-python",
   "name": "python",
   "nbconvert_exporter": "python",
   "pygments_lexer": "ipython3",
   "version": "3.6.1"
  }
 },
 "nbformat": 4,
 "nbformat_minor": 2
}
