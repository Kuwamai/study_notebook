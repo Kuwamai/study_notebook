{
 "cells": [
  {
   "cell_type": "markdown",
   "metadata": {},
   "source": [
    "# Notebook\n",
    "\n",
    "ロボットの角度を推定する  "
   ]
  },
  {
   "cell_type": "markdown",
   "metadata": {
    "collapsed": true
   },
   "source": [
    "### 移動モデル\n",
    "  \n",
    "$$\n",
    "u_t=\n",
    "\\begin{pmatrix}\n",
    "v_t \\\\\n",
    "\\omega_t\n",
    "\\end{pmatrix}\n",
    "$$\n",
    "\n",
    "$ u_t $:入力  \n",
    "$ v_t $:ロボットの前進速度  \n",
    "$ \\omega_t $ロボットの回転角速度  \n",
    "  \n",
    "$$\n",
    "X_t=X_{t-1}+Bu_t+\\epsilon_t\n",
    "$$  \n",
    "\n",
    "$$\n",
    "\\begin{pmatrix}\n",
    "x_t \\\\\n",
    "y_t \\\\\n",
    "\\theta_t\n",
    "\\end{pmatrix}\n",
    "=\n",
    "\\begin{pmatrix}\n",
    "x_{t-1} \\\\\n",
    "y_{t-1} \\\\\n",
    "\\theta_{t-1}\n",
    "\\end{pmatrix}\n",
    "+\n",
    "\\begin{pmatrix}\n",
    "\\Delta t\\cos\\theta_{t-1} & 0 \\\\\n",
    "\\Delta t\\sin\\theta_{t-1} & 0 \\\\\n",
    "0 & \\Delta t\n",
    "\\end{pmatrix}\n",
    "\\begin{pmatrix}\n",
    "v_t \\\\\n",
    "\\omega_t\n",
    "\\end{pmatrix}\n",
    "+\n",
    "\\epsilon_t\n",
    "$$  \n",
    "\n",
    "$ X_t $:ロボットの位置姿勢    \n",
    "$ \\epsilon_t $:odometryノイズ  \n",
    "$ \\Delta t $:単位時間"
   ]
  },
  {
   "cell_type": "markdown",
   "metadata": {},
   "source": [
    "### 観測モデル\n",
    "$$\n",
    "Z_t=h(X_t)+\\delta_t\n",
    "$$\n",
    "$ Z_t $:ロボットが観測した姿勢  \n",
    "$ \\delta_t $:観測ノイズ  \n",
    "  \n",
    "$$\n",
    "X_{ws} = X_r + R X_{rs}\n",
    "$$\n",
    "$$\n",
    "\\begin{pmatrix}\n",
    "x_{ws} \\\\\n",
    "y_{ws} \\\\\n",
    "\\theta_{ws}\n",
    "\\end{pmatrix}\n",
    "=\n",
    "\\begin{pmatrix}\n",
    "x_{t} \\\\\n",
    "y_{t} \\\\\n",
    "\\theta_{t}\n",
    "\\end{pmatrix}\n",
    "+\n",
    "\\begin{pmatrix}\n",
    "\\cos\\theta_t & -\\sin\\theta_t & 0 \\\\\n",
    "\\sin\\theta_t & \\cos\\theta_t & 0 \\\\\n",
    "0 & 0 & 1\n",
    "\\end{pmatrix}\n",
    "\\begin{pmatrix}\n",
    "x_{rs} \\\\\n",
    "y_{rs} \\\\\n",
    "\\theta_{rs}\n",
    "\\end{pmatrix}\n",
    "$$  "
   ]
  },
  {
   "cell_type": "markdown",
   "metadata": {},
   "source": [
    "### 予測ステップ\n",
    "$$\n",
    "\\begin{eqnarray*}\n",
    "\\bar{\\theta}_t&=&\\theta_{t-1}+\\dot{\\theta}_t\\Delta t\\nonumber\\\\\n",
    "\\bar{\\sigma}_t^2&=&\\sigma_{t-1}^2+\\sigma_{\\dot{\\theta}_t}^2\\nonumber\n",
    "\\end{eqnarray*}\n",
    "$$"
   ]
  },
  {
   "cell_type": "markdown",
   "metadata": {},
   "source": [
    "### フィルタリングステップ\n",
    "$$\n",
    "\\begin{eqnarray*}\n",
    "k_t&=&\\frac{\\bar{\\sigma}_t^2}{\\bar{\\sigma}_t^2+\\sigma_{z_t}^2}\\nonumber\\\\\n",
    "\\theta_t&=&\\bar{\\theta_t}+k_t(Z_t-\\bar{\\theta}_t)\\nonumber\\\\\n",
    "\\sigma_t^2&=&(1-k_t)\\bar{\\sigma}_t^2\\nonumber\n",
    "\\end{eqnarray*}\n",
    "$$"
   ]
  },
  {
   "cell_type": "code",
   "execution_count": null,
   "metadata": {
    "collapsed": true
   },
   "outputs": [],
   "source": []
  }
 ],
 "metadata": {
  "kernelspec": {
   "display_name": "Python 3",
   "language": "python",
   "name": "python3"
  },
  "language_info": {
   "codemirror_mode": {
    "name": "ipython",
    "version": 3
   },
   "file_extension": ".py",
   "mimetype": "text/x-python",
   "name": "python",
   "nbconvert_exporter": "python",
   "pygments_lexer": "ipython3",
   "version": "3.6.1"
  }
 },
 "nbformat": 4,
 "nbformat_minor": 2
}
